{
 "cells": [
  {
   "cell_type": "markdown",
   "id": "97518b57",
   "metadata": {},
   "source": [
    "# Домашнее задание 3"
   ]
  },
  {
   "cell_type": "markdown",
   "id": "c35fc356",
   "metadata": {},
   "source": [
    "<p style = \"background:powderblue\">1. Матрица индексов</p>\n",
    "\n",
    "Программа получает на вход две целочисленные переменные $m, n$. Создайте матрицу $M$ размера $m \\times n$, в каждой строке которой $n$ раз повторяются индексы строки.\n",
    "\n",
    "Пример. Матрица $3 \\times 4$\n",
    "$$\n",
    "M_{m,n} = \n",
    " \\begin{pmatrix}\n",
    "  0 & 0 & 0 & 0 \\\\\n",
    "  1 & 1 & 1 & 1 \\\\\n",
    "  2 & 2 & 2 & 2 \\\\\n",
    " \\end{pmatrix}\n",
    "$$"
   ]
  },
  {
   "cell_type": "code",
   "execution_count": 19,
   "id": "c4c42dd9",
   "metadata": {},
   "outputs": [],
   "source": [
    "import random"
   ]
  },
  {
   "cell_type": "code",
   "execution_count": 106,
   "id": "e5c423a4",
   "metadata": {
    "scrolled": true
   },
   "outputs": [
    {
     "name": "stdout",
     "output_type": "stream",
     "text": [
      "[0, 0, 0, 0, 0, 0, 0, 0]\n",
      "[1, 1, 1, 1, 1, 1, 1, 1]\n",
      "[2, 2, 2, 2, 2, 2, 2, 2]\n"
     ]
    }
   ],
   "source": [
    "# 1. Ваш код здесь\n",
    "def make_matrix(m, n):\n",
    "    return [[x for _ in range(n)] for x in range(m)]\n",
    "m = random.randint(1, 10)\n",
    "n = random.randint(1, 10)\n",
    "matrix = make_matrix(m, n)\n",
    "for row in matrix:\n",
    "    print(row)"
   ]
  },
  {
   "cell_type": "markdown",
   "id": "3e90af73",
   "metadata": {},
   "source": [
    "<p style = \"background:powderblue\">2. Единичная матрица</p>\n",
    "\n",
    "Дано целое число $n$. Распечатайте матрицу ${n}\\times{n}$, в которой все элементы равны нулю, кроме главной диагонали, на которой стоят единицы. (Главная диагональ квадратной матрицы состоит из элементов с индексами $i$ и $j$, в которых $i=j$. То есть это элементы с индексами 00, 11, 22 и т.д.)"
   ]
  },
  {
   "cell_type": "code",
   "execution_count": 105,
   "id": "2982da51",
   "metadata": {},
   "outputs": [
    {
     "name": "stdout",
     "output_type": "stream",
     "text": [
      "[1, 0, 0, 0, 0]\n",
      "[0, 1, 0, 0, 0]\n",
      "[0, 0, 1, 0, 0]\n",
      "[0, 0, 0, 1, 0]\n",
      "[0, 0, 0, 0, 1]\n"
     ]
    }
   ],
   "source": [
    "# 2. Ваш код здесь\n",
    "def make_matrix(n):\n",
    "    matrix = []\n",
    "    for i in range(n):\n",
    "        row = []\n",
    "        for j in range(n):\n",
    "            if i == j:\n",
    "                row.append(1)\n",
    "            else:\n",
    "                row.append(0)\n",
    "        matrix.append(row)\n",
    "    return matrix\n",
    "n = random.randint(1, 10)\n",
    "matrix = make_matrix(n)\n",
    "for row in matrix:\n",
    "    print(row)"
   ]
  },
  {
   "cell_type": "markdown",
   "id": "2bb1e583",
   "metadata": {},
   "source": [
    "<p style = \"background:powderblue\">3. Раскраска шахматной доски</p>\n",
    "\n",
    "В этом задании вам предстоит раскрасить шахматную доску размера $n \\times n$ в черный и белый цвета. Элемент с индексом [0][0] раскрасьте в белый цвет, а далее в шахматном порядке. Для обозначения черного цвета используйте символ \"b\", для обозначения белого цвета — символ \"w\"."
   ]
  },
  {
   "cell_type": "code",
   "execution_count": 97,
   "id": "828233b2",
   "metadata": {},
   "outputs": [
    {
     "name": "stdout",
     "output_type": "stream",
     "text": [
      "w b w b w b w b w b\n",
      "b w b w b w b w b w\n",
      "w b w b w b w b w b\n",
      "b w b w b w b w b w\n",
      "w b w b w b w b w b\n",
      "b w b w b w b w b w\n",
      "w b w b w b w b w b\n",
      "b w b w b w b w b w\n",
      "w b w b w b w b w b\n",
      "b w b w b w b w b w\n"
     ]
    }
   ],
   "source": [
    "# 3. Ваш код здесь\n",
    "def make_chessboard(n):\n",
    "    board = [] \n",
    "    for i in range(n):\n",
    "        row = []  \n",
    "        for j in range(n):\n",
    "            if (i + j) % 2 == 0:\n",
    "                row.append('w')\n",
    "            else:\n",
    "                row.append('b')\n",
    "        board.append(row)\n",
    "    return board\n",
    "n = random.randint(1, 10) \n",
    "chessboard = make_chessboard(n)\n",
    "for row in chessboard:\n",
    "    print(' '.join(row))"
   ]
  },
  {
   "cell_type": "markdown",
   "id": "59166172",
   "metadata": {},
   "source": [
    "<p style = \"background:powderblue\">4. Обратная диагональ матрицы</p>\n",
    "\n",
    "Мы решали задание с заполнением главной диагонали, а теперь нам предстоит сделать аналогичную вещь для обратной (побочной) диагонали. Выведите матрицу размера $n \\times n$ с такими элементами: все значения, стоящие на обратной (побочной) диагонали, равны 1, остальные 0."
   ]
  },
  {
   "cell_type": "code",
   "execution_count": 103,
   "id": "ad72a536",
   "metadata": {},
   "outputs": [
    {
     "name": "stdout",
     "output_type": "stream",
     "text": [
      "[0, 0, 0, 0, 0, 0, 0, 1]\n",
      "[0, 0, 0, 0, 0, 0, 1, 0]\n",
      "[0, 0, 0, 0, 0, 1, 0, 0]\n",
      "[0, 0, 0, 0, 1, 0, 0, 0]\n",
      "[0, 0, 0, 1, 0, 0, 0, 0]\n",
      "[0, 0, 1, 0, 0, 0, 0, 0]\n",
      "[0, 1, 0, 0, 0, 0, 0, 0]\n",
      "[1, 0, 0, 0, 0, 0, 0, 0]\n"
     ]
    }
   ],
   "source": [
    "# 4. Ваш код здесь\n",
    "n = random.randint(1, 10)\n",
    "matrix = [[0]*n for _ in range(n)]\n",
    "for i in range(n):\n",
    "    matrix[i][n - i - 1] = 1\n",
    "for row in matrix:\n",
    "    print(row)\n"
   ]
  },
  {
   "cell_type": "markdown",
   "id": "39e15767",
   "metadata": {},
   "source": [
    "<p style = \"background:powderblue\">5. Два вектора</p>\n",
    "\n",
    "Имеются два $n$–мерных вектора $x$ и $y$, которые задают координаты $n$ точек на плоскости (случайные целые числа). Найти наиболее близкие друг другу точки."
   ]
  },
  {
   "cell_type": "code",
   "execution_count": 100,
   "id": "68eff2e8",
   "metadata": {},
   "outputs": [
    {
     "name": "stdout",
     "output_type": "stream",
     "text": [
      "7\n",
      "[5, -8, -8, -5, -9, -1, 8]\n",
      "[-6, -2, 8, -10, -5, 9, 7]\n",
      "Длина между точками: 3.1622776601683795, координаты первой точки: (-8 ; -2), координаты второй точки: (-9 ; -5)\n"
     ]
    }
   ],
   "source": [
    "# 5. Ваш код здесь\n",
    "n = random.randint(1, 10)\n",
    "x = []\n",
    "y = []\n",
    "for i in range(n):\n",
    "    x.append(random.randint(-10, 10))\n",
    "    y.append(random.randint(-10, 10))\n",
    "print(n)\n",
    "print(x)\n",
    "print(y)\n",
    "x1, y1, x2, y2 = 0, 0, 0, 0\n",
    "min_pr = 10000\n",
    "i = 0\n",
    "k = 1\n",
    "l = 0\n",
    "while i < n - 1:\n",
    "    l = ((x[i] - x[k])**2 + (y[i] - y[k])**2)**0.5\n",
    "    if l < min_pr:\n",
    "        min_pr = l\n",
    "        x1, x2, y1, y2 = x[i], x[k], y[i], y[k]\n",
    "    k += 1\n",
    "    if k == n:\n",
    "        i += 1\n",
    "        k = i + 1\n",
    "print(f'Длина между точками: {min_pr}, координаты первой точки: ({x1} ; {y1}), координаты второй точки: ({x2} ; {y2})')"
   ]
  },
  {
   "cell_type": "markdown",
   "id": "1bba410b",
   "metadata": {},
   "source": [
    "<p style = \"background:powderblue\">6. Високосный год</p>\n",
    "\n",
    "По номеру года определите, является ли данный год високосным. Год является високосным, если его номер кратен 4, кроме номеров, кратных 100. Однако, если номер года кратен 400, то он является високосным.\n",
    "\n",
    "- год, номер которого кратен 400, — високосный;\n",
    "- остальные годы, номер которых кратен 100, — невисокосные (например, годы 1700, 1800, 1900, 2100, 2200, 2300);\n",
    "- остальные годы, номер которых кратен 4, — високосные;\n",
    "- все остальные годы — невисокосные.\n",
    "\n",
    "<a href = \"https://ru.wikipedia.org/wiki/%D0%92%D0%B8%D1%81%D0%BE%D0%BA%D0%BE%D1%81%D0%BD%D1%8B%D0%B9_%D0%B3%D0%BE%D0%B4\">Високосный год</a>"
   ]
  },
  {
   "cell_type": "code",
   "execution_count": 2,
   "id": "7875bdad",
   "metadata": {},
   "outputs": [
    {
     "name": "stdout",
     "output_type": "stream",
     "text": [
      "1600\n",
      "1600г. високосный.\n"
     ]
    }
   ],
   "source": [
    "# 6. Ваш код здесь\n",
    "def is_leap(year):\n",
    "    return year % 4 == 0 and (year % 100 != 0 or year % 400 == 0)\n",
    "year = int(input())\n",
    "if is_leap(year):\n",
    "    print(f\"{year}г. високосный.\")\n",
    "else:\n",
    "    print(f\"{year}г. не високосный.\")"
   ]
  },
  {
   "cell_type": "code",
   "execution_count": null,
   "id": "3fa01068",
   "metadata": {},
   "outputs": [],
   "source": []
  }
 ],
 "metadata": {
  "kernelspec": {
   "display_name": "Python 3 (ipykernel)",
   "language": "python",
   "name": "python3"
  },
  "language_info": {
   "codemirror_mode": {
    "name": "ipython",
    "version": 3
   },
   "file_extension": ".py",
   "mimetype": "text/x-python",
   "name": "python",
   "nbconvert_exporter": "python",
   "pygments_lexer": "ipython3",
   "version": "3.11.4"
  }
 },
 "nbformat": 4,
 "nbformat_minor": 5
}
