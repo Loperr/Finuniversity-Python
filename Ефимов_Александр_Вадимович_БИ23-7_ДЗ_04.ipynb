{
 "cells": [
  {
   "cell_type": "markdown",
   "id": "2367bc3b",
   "metadata": {},
   "source": [
    "# Домашнее задание 4\n",
    "\n",
    "Файлу с выполненным домашним заданием присвойте имя в формате `Фамилия_Имя_Группа_ДЗ_Номер.ipynb`"
   ]
  },
  {
   "cell_type": "markdown",
   "id": "bf05624b",
   "metadata": {},
   "source": [
    "<h3 style=\"background:powderblue\">Задача 1 Функция</h3>\n",
    "\n",
    "Для заданной математической функции $y=f(x)$ разработать программу вычисления значения функции на интервале от 3,1 до 6.\n",
    "\n",
    "$$ y = \\frac{x^2-9x+7}{x-3} $$\n"
   ]
  },
  {
   "cell_type": "code",
   "execution_count": 262,
   "id": "30a06fdd",
   "metadata": {},
   "outputs": [],
   "source": [
    "import random"
   ]
  },
  {
   "cell_type": "code",
   "execution_count": 263,
   "id": "ceaf806d",
   "metadata": {},
   "outputs": [
    {
     "name": "stdout",
     "output_type": "stream",
     "text": [
      "-9.221176729774433\n"
     ]
    }
   ],
   "source": [
    "#1.\n",
    "\n",
    "def f(x):\n",
    "    if x == 3:\n",
    "        print(\"Делитель не может быть равен 0!\")\n",
    "        return\n",
    "    else:\n",
    "        return (x**2 - 9*x + 7) / (x - 3)\n",
    "    \n",
    "x = random.uniform(3.1, 6)\n",
    "print(f(x))\n",
    "    \n"
   ]
  },
  {
   "cell_type": "markdown",
   "id": "c250a708",
   "metadata": {},
   "source": [
    "<h3 style=\"background:powderblue\">Задача 2 Денежная сумма</h3>\n",
    "\n",
    "Известна денежная сумма. Выдать её купюрами 500, 100, и монетами 10 и 1 руб., если это возможно. Например, для выдачи суммы 3875 рублей, потребуется 7 купюр по 500 рублей, 3 купюры по 100 руб., 7 монет по 10 рублей и 5 монет по 1 рублю."
   ]
  },
  {
   "cell_type": "code",
   "execution_count": 209,
   "id": "65ef0810",
   "metadata": {},
   "outputs": [
    {
     "name": "stdout",
     "output_type": "stream",
     "text": [
      "Введите денежную сумму: 1232\n",
      "Количество купюр по 500 рублей:  2\n",
      "Количество купюр по 100 рублей:  2\n",
      "Количество монет по 10 рублей:  3\n",
      "Количество монет по 1 рублю:  2\n"
     ]
    }
   ],
   "source": [
    "# 2.\n",
    "\n",
    "summa = int(input('Введите денежную сумму: '))\n",
    "\n",
    "if summa >= 500:\n",
    "    k_500 = summa // 500                  \n",
    "    ostatok_k_500 = summa % 500           \n",
    "    print('Количество купюр по 500 рублей: ', k_500)\n",
    "\n",
    "\n",
    "if ostatok_k_500 < 500:\n",
    "    k_100 = ostatok_k_500 // 100          \n",
    "    ostatok_k_100 = ostatok_k_500 % 100   \n",
    "    print('Количество купюр по 100 рублей: ', k_100)\n",
    "\n",
    "\n",
    "if ostatok_k_100 < 100:\n",
    "    k_10 = ostatok_k_100 // 10            \n",
    "    ostatok_k_10 = ostatok_k_100 % 10     \n",
    "    print('Количество монет по 10 рублей: ', k_10)\n",
    "\n",
    "if ostatok_k_10 < 10:\n",
    "    k_1 = ostatok_k_10                     \n",
    "    print('Количество монет по 1 рублю: ', k_1)"
   ]
  },
  {
   "cell_type": "markdown",
   "id": "14535792",
   "metadata": {},
   "source": [
    "<h3 style=\"background:powderblue\">Задача 3 НОД</h3>\n",
    "\n",
    "Напишите программу, которая находит наибольший общий делитель двух чисел, используя модифицированный алгоритм Евклида: нужно заменять большее число на остаток от деления большего на меньшее до тех пор, пока этот остаток не станет равен нулю; тогда второе и есть НОД."
   ]
  },
  {
   "cell_type": "code",
   "execution_count": 258,
   "id": "4d1486d2",
   "metadata": {},
   "outputs": [
    {
     "name": "stdout",
     "output_type": "stream",
     "text": [
      "Введите первое число: 0\n",
      "Введите второе число: 10\n",
      "Наибольший общий делитель: 10\n"
     ]
    }
   ],
   "source": [
    "def nod(a, b):\n",
    "    while b != 0:\n",
    "        a, b = b, a % b\n",
    "    return a\n",
    "\n",
    "num1 = int(input(\"Введите первое число: \"))\n",
    "num2 = int(input(\"Введите второе число: \"))\n",
    "\n",
    "result = nod(num1, num2)\n",
    "print(\"Наибольший общий делитель:\", result)"
   ]
  },
  {
   "cell_type": "markdown",
   "id": "3c5d2db3",
   "metadata": {},
   "source": [
    "<h3 style=\"background:powderblue\">Задача 4 Случайные списки</h3>\n",
    "\n",
    "Создайте 2 списка из 5 случайных целых чисел от 1 до 10. \n",
    "- определите, сколько различных чисел содержат списки; \n",
    "- определите, сколько различных чисел содержится одновременно как в первом списке, \n",
    "так и во втором, \n",
    "- выведите все числа, которые входят как в первый, так и во второй список в порядке \n",
    "возрастания, \n",
    "- удалите из первого списка числа, входящие во второй список "
   ]
  },
  {
   "cell_type": "code",
   "execution_count": 264,
   "id": "367b659a",
   "metadata": {},
   "outputs": [
    {
     "name": "stdout",
     "output_type": "stream",
     "text": [
      "Первый список: [10, 9, 1, 7, 4]\n",
      "Второй список: [6, 2, 4, 10, 7]\n",
      "В первом списке различных чисел: 5\n",
      "Во втором списке различных чисел: 5\n",
      "Числа, присутствующие в обоих списках: 3\n",
      "Числа, присутствующие в обоих списках в порядке возрастания: [4, 7, 10]\n",
      "Первый список после удаления общих чисел: [1, 9]\n"
     ]
    }
   ],
   "source": [
    "# 4.\n",
    "\n",
    "list1 = [random.randint(1, 10) for _ in range(5)]\n",
    "print(\"Первый список:\", list1)\n",
    "\n",
    "list2 = [random.randint(1, 10) for _ in range(5)]\n",
    "print(\"Второй список:\", list2)\n",
    "\n",
    "unique_numbers_in_list1 = len(set(list1))\n",
    "print(\"В первом списке различных чисел:\", unique_numbers_in_list1)\n",
    "\n",
    "unique_numbers_in_list2 = len(set(list2))\n",
    "print(\"Во втором списке различных чисел:\", unique_numbers_in_list2)\n",
    "\n",
    "same_numbers = len(set(list1) & set(list2))\n",
    "print(\"Числа, присутствующие в обоих списках:\", same_numbers)\n",
    "\n",
    "same_numbers_sorted = sorted(set(list1) & set(list2))\n",
    "print(\"Числа, присутствующие в обоих списках в порядке возрастания:\", same_numbers_sorted)\n",
    "\n",
    "list1 = list(set(list1) - set(same_numbers_sorted))\n",
    "print(\"Первый список после удаления общих чисел:\", list1)"
   ]
  },
  {
   "cell_type": "markdown",
   "id": "ec15f0e8",
   "metadata": {},
   "source": [
    "<h3 style=\"background:powderblue\">Задача 5 Умножение матриц</h3>\n",
    "\n",
    "Реализовать умножение двух матриц, записанных как списки списков."
   ]
  },
  {
   "cell_type": "code",
   "execution_count": 265,
   "id": "6b185458",
   "metadata": {},
   "outputs": [
    {
     "name": "stdout",
     "output_type": "stream",
     "text": [
      "[[91, 456], [185, 1238]]\n"
     ]
    }
   ],
   "source": [
    "# 5.\n",
    "def multiply_matrices(mat1, mat2):\n",
    "    if len(mat1[0]) != len(mat2):\n",
    "        print(\"Число столбцов в первой матрице не равно числу строк во второй матрице!\")\n",
    "        return\n",
    "\n",
    "    result = [[0 for _ in range(len(mat2[0]))] for _ in range(len(mat1))]\n",
    "\n",
    "    for i in range(len(mat1)):\n",
    "        for j in range(len(mat2[0])):\n",
    "            for k in range(len(mat2)):\n",
    "                result[i][j] += mat1[i][k] * mat2[k][j]\n",
    "\n",
    "    return result\n",
    "\n",
    "mat1 = [[2, 2, 3], [4, 9, 4]]\n",
    "mat2 = [[5, 45], [9, 90], [21, 62]]\n",
    "result = multiply_matrices(mat1, mat2)\n",
    "print(result)"
   ]
  },
  {
   "cell_type": "markdown",
   "id": "1fe0d3d6",
   "metadata": {},
   "source": [
    "<h3 style=\"background:powderblue\">Задача 6 Строка с числами</h3>\n",
    "\n",
    "В строке, содержащей последовательность слов, обозначающих числа 'НОЛЬ,ОДИН,ДВА,ТРИ,ЧЕТЫРЕ,ПЯТЬ,ШЕСТЬ,СЕМЬ,ВОСЕМЬ,ДЕВЯТЬ' удалить слова, обозначающие нечетные числа. Ответ представить в виде строки."
   ]
  },
  {
   "cell_type": "code",
   "execution_count": 266,
   "id": "ed80f38b",
   "metadata": {},
   "outputs": [
    {
     "name": "stdout",
     "output_type": "stream",
     "text": [
      "ДВА, ЧЕТЫРЕ, ШЕСТЬ, ВОСЕМЬ, \n"
     ]
    }
   ],
   "source": [
    "# 6.\n",
    "numbers = [\"НОЛЬ\", \"ОДИН\", \"ДВА\", \"ТРИ\", \"ЧЕТЫРЕ\", \"ПЯТЬ\", \"ШЕСТЬ\", \"СЕМЬ\", \"ВОСЕМЬ\", \"ДЕВЯТЬ\"]\n",
    "\n",
    "source_string = \"ОДИН ДВА ТРИ ЧЕТЫРЕ ПЯТЬ ШЕСТЬ СЕМЬ ВОСЕМЬ ДЕВЯТЬ\"\n",
    "\n",
    "result_string = \"\"\n",
    "\n",
    "words = source_string.split()\n",
    "\n",
    "for word in words:\n",
    "    if word in numbers[::2]:\n",
    "        result_string += word + \", \"\n",
    "\n",
    "print(result_string)"
   ]
  }
 ],
 "metadata": {
  "kernelspec": {
   "display_name": "Python 3 (ipykernel)",
   "language": "python",
   "name": "python3"
  },
  "language_info": {
   "codemirror_mode": {
    "name": "ipython",
    "version": 3
   },
   "file_extension": ".py",
   "mimetype": "text/x-python",
   "name": "python",
   "nbconvert_exporter": "python",
   "pygments_lexer": "ipython3",
   "version": "3.11.4"
  }
 },
 "nbformat": 4,
 "nbformat_minor": 5
}
