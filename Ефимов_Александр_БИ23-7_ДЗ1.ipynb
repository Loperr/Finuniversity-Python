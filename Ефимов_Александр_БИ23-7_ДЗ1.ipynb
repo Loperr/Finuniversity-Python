{
 "cells": [
  {
   "cell_type": "markdown",
   "id": "f81f319e",
   "metadata": {},
   "source": [
    "<p style = \"background:powderblue\">1. Число дней</p>\n",
    "\n",
    "Напишите программу, которая запрашивает у пользователя количество дней в текущем месяце и сегодняшнее число, а затем выводит текст с информацией о том, сколько дней осталось до конца текущего месяца."
   ]
  },
  {
   "cell_type": "code",
   "execution_count": 2,
   "id": "a824eb22",
   "metadata": {},
   "outputs": [
    {
     "name": "stdout",
     "output_type": "stream",
     "text": [
      "Введите кол-во дней в текущем месяце: 30\n",
      "Введите сегодняшнее число: 15\n",
      "Осталось 15 дней до конца текущего месяца.\n"
     ]
    }
   ],
   "source": [
    "# 1.\n",
    "x = int(input(\"Введите кол-во дней в текущем месяце: \"))\n",
    "y = int(input(\"Введите сегодняшнее число: \"))\n",
    "\n",
    "z = x - y\n",
    "\n",
    "print(f\"Осталось {z} дней до конца текущего месяца.\")\n"
   ]
  },
  {
   "cell_type": "markdown",
   "id": "240dba53",
   "metadata": {},
   "source": [
    "<p style = \"background:powderblue\">2. Число квадратов</p>\n",
    "\n",
    "Напишите программу, которая определит, сколько квадратов со стороной $square$ можно разместить в прямоугольнике $side\\_1 \\times side\\_2$. Введите значения $square$, $side\\_1$ и $side\\_2$."
   ]
  },
  {
   "cell_type": "code",
   "execution_count": 38,
   "id": "13452294",
   "metadata": {},
   "outputs": [
    {
     "name": "stdout",
     "output_type": "stream",
     "text": [
      "Введите длину стороны квадрата: 10\n",
      "Введите длину первой стороны прямоугольника: 10\n",
      "Введите длину второй стороны прямоугольника: 10\n",
      "Квадратов поместится в прямоугольнике: 1.0\n"
     ]
    }
   ],
   "source": [
    "# 2. \n",
    "def f(square, side_1, side_2):\n",
    "    x = (side_1 // square) * (side_2 // square)\n",
    "    return x\n",
    "\n",
    "square = float(input(\"Введите длину стороны квадрата: \"))\n",
    "side_1 = float(input(\"Введите длину первой стороны прямоугольника: \"))\n",
    "side_2 = float(input(\"Введите длину второй стороны прямоугольника: \"))\n",
    "\n",
    "res = f(square, side_1, side_2)\n",
    "print(\"Квадратов поместится в прямоугольнике:\", res)\n"
   ]
  },
  {
   "cell_type": "markdown",
   "id": "0efc17c1",
   "metadata": {},
   "source": [
    "<p style = \"background:powderblue\">3. Цена муки</p>\n",
    "\n",
    "Рисовая мука поступает ежедневно по разной цене. Напишите программу, которая получает от пользователя цену за килограмм рисовой муки, количество ее килограммов в наличии на начало рабочего дня и количество проданных за день килограммов, а затем выводит общую стоимость муки в наличии на начало и конец рабочего дня."
   ]
  },
  {
   "cell_type": "code",
   "execution_count": 5,
   "id": "e3abc5ab",
   "metadata": {},
   "outputs": [
    {
     "name": "stdout",
     "output_type": "stream",
     "text": [
      "Введите цену за килограмм: 5\n",
      "Введите количество килограммов рисовой муки в наличии на начало рабочего дня: 5\n",
      "Введите кол-во проданных за день килограммов: 5\n",
      "Цена муки в наличии на начало дня: ₽ 25.0\n",
      "Цена муки в наличии на конец рабочего дня: ₽ 0.0\n"
     ]
    }
   ],
   "source": [
    "# 3.\n",
    "x = float(input(\"Введите цену за килограмм: \"))\n",
    "y = float(input(\"Введите количество килограммов рисовой муки в наличии на начало рабочего дня: \"))\n",
    "z = float(input(\"Введите кол-во проданных за день килограммов: \"))\n",
    "\n",
    "всего_начало = x * y\n",
    "всего_вконце = x * (y - z)\n",
    "\n",
    "print(\"Цена муки в наличии на начало дня: ₽\", всего_начало)\n",
    "print(\"Цена муки в наличии на конец рабочего дня: ₽\", всего_вконце)"
   ]
  },
  {
   "cell_type": "markdown",
   "id": "a7119224",
   "metadata": {},
   "source": [
    "<p style = \"background:powderblue\">4. Скобки</p>\n",
    "\n",
    "В выражении `res = 70 / 3 + 4 * 5 % 2` расставьте скобки, не меняя само выражение, так, чтобы переменная `res` приняла значение 0.0."
   ]
  },
  {
   "cell_type": "code",
   "execution_count": 15,
   "id": "87cedb66",
   "metadata": {},
   "outputs": [
    {
     "name": "stdout",
     "output_type": "stream",
     "text": [
      "0.0\n"
     ]
    }
   ],
   "source": [
    "# 4. \n",
    "res = (70 / (3 + 4)) * 5 % 2;\n",
    "print(res)\n"
   ]
  },
  {
   "cell_type": "markdown",
   "id": "04acab93",
   "metadata": {},
   "source": [
    "<p style = \"background:powderblue\">5. Округление</p>\n",
    "\n",
    "Округлите до большего целого\n",
    "\n",
    "$$ \\frac{e^{\\log_{4}{(x+y)^3}}}{\\sqrt{x \\cdot y}} $$\n",
    "\n",
    "$$ x = 200, y = 181, res = 2023 $$\n",
    "$$ x = 10, y = 15, res = 87 $$"
   ]
  },
  {
   "cell_type": "code",
   "execution_count": 1,
   "id": "0eba7dcd",
   "metadata": {},
   "outputs": [
    {
     "name": "stdout",
     "output_type": "stream",
     "text": [
      "2023\n",
      "87\n"
     ]
    }
   ],
   "source": [
    "# 5. \n",
    "import math\n",
    "def okrug(x, y):\n",
    "    result = math.exp(math.log(x + y, 4)) ** 3 / math.sqrt(x * y)\n",
    "    return math.ceil(result)\n",
    "x = 200\n",
    "y = 181\n",
    "res = okrug(x, y)\n",
    "print(res)\n",
    "x = 10\n",
    "y = 15\n",
    "res = okrug(x, y)\n",
    "print(res)"
   ]
  },
  {
   "cell_type": "markdown",
   "id": "919cffd9",
   "metadata": {},
   "source": [
    "<p style = \"background:powderblue\">6. Ложь - Истина</p>\n",
    "\n",
    "Исправьте программу таким образом, чтобы в результате ее исполнения на экран всегда выводились значения\n",
    "```\n",
    "False\n",
    "True\n",
    "```\n",
    "каждое на отдельной строке.\n",
    "\n",
    "```\n",
    "a = int(input())\n",
    "b = -a\n",
    "\n",
    "print(a == a) # внесите изменения в этой строке\n",
    "print(a < b) # внесите изменения в этой строке\n",
    "```"
   ]
  },
  {
   "cell_type": "code",
   "execution_count": 34,
   "id": "e467d6ea",
   "metadata": {
    "scrolled": true
   },
   "outputs": [
    {
     "name": "stdout",
     "output_type": "stream",
     "text": [
      "5\n",
      "False\n",
      "True\n"
     ]
    }
   ],
   "source": [
    "# 6. \n",
    "a = int (input())   \n",
    "b = -a\n",
    "if (a > b): print(\"False\")\n",
    "if (a > b): print(\"True\")\n",
    "else:\n",
    "    print(\"False\")\n",
    "    print(\"True\")"
   ]
  }
 ],
 "metadata": {
  "kernelspec": {
   "display_name": "Python 3 (ipykernel)",
   "language": "python",
   "name": "python3"
  },
  "language_info": {
   "codemirror_mode": {
    "name": "ipython",
    "version": 3
   },
   "file_extension": ".py",
   "mimetype": "text/x-python",
   "name": "python",
   "nbconvert_exporter": "python",
   "pygments_lexer": "ipython3",
   "version": "3.11.4"
  }
 },
 "nbformat": 4,
 "nbformat_minor": 5
}
