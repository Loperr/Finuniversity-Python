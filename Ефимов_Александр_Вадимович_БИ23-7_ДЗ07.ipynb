{
 "cells": [
  {
   "cell_type": "markdown",
   "metadata": {},
   "source": [
    "# Домашнее задание 7"
   ]
  },
  {
   "cell_type": "markdown",
   "metadata": {},
   "source": [
    "### Задание 1\n",
    "\n",
    "Описать процедуру $TrianglePS(a, P, S)$, вычисляющую по стороне $a$ равностороннего треугольника его периметр $P = 3\\cdot{a}$ и площадь $S=\\frac{a^2\\sqrt{3}}{4}$, ($a$ – входной, $P$ и $S$ – выходные параметры; все параметры являются вещественными). С помощью этой процедуры найти периметры и площади трех равносторонних треугольников с данными сторонами. "
   ]
  },
  {
   "cell_type": "code",
   "execution_count": 18,
   "metadata": {},
   "outputs": [
    {
     "name": "stdout",
     "output_type": "stream",
     "text": [
      "Первый треугольник: периметр = 15, площадь = 10.825317547305483\n",
      "Второй треугольник: периметр = 24, площадь = 27.712812921102035\n",
      "Третий треугольник: периметр = 45, площадь = 97.42785792574934\n"
     ]
    }
   ],
   "source": [
    "# 1.\n",
    "def TrianglePS(a):\n",
    "    P = 3 * a\n",
    "    S = (3 ** 0.5 / 4) * a ** 2\n",
    "    return P, S\n",
    "P1, S1 = TrianglePS(5)\n",
    "P2, S2 = TrianglePS(8)\n",
    "P3, S3 = TrianglePS(15)\n",
    "\n",
    "print(f\"Первый треугольник: периметр = {P1}, площадь = {S1}\")\n",
    "print(f\"Второй треугольник: периметр = {P2}, площадь = {S2}\")\n",
    "print(f\"Третий треугольник: периметр = {P3}, площадь = {S3}\")"
   ]
  },
  {
   "cell_type": "markdown",
   "metadata": {},
   "source": [
    "### Задание 2 ###\n",
    "\n",
    "Описать процедуру $InvertDigits(K)$, меняющую порядок следования цифр целого положительного числа $K$ на обратный ($K$ – параметр целого типа, являющийся одновременно входным и выходным). С помощью этой процедуры поменять порядок следования цифр на обратный для каждого из пяти данных целых чисел."
   ]
  },
  {
   "cell_type": "code",
   "execution_count": 19,
   "metadata": {},
   "outputs": [
    {
     "name": "stdout",
     "output_type": "stream",
     "text": [
      "Обратным порядком 2281488 является 8841822\n",
      "Обратным порядком 123132 является 231321\n",
      "Обратным порядком 444332 является 233444\n",
      "Обратным порядком 1337 является 7331\n",
      "Обратным порядком 13246 является 64231\n"
     ]
    }
   ],
   "source": [
    "# 2.\n",
    "def InvertDigits(K):\n",
    "    rev_num = 0\n",
    "    while K > 0:\n",
    "        rev_num = rev_num * 10 + K % 10\n",
    "        K = K // 10\n",
    "    return rev_num\n",
    "\n",
    "numbers = [2281488, 123132, 444332, 1337, 13246]\n",
    "for num in numbers:\n",
    "    print(f\"Обратным порядком {num} является {InvertDigits(num)}\")"
   ]
  },
  {
   "cell_type": "markdown",
   "metadata": {},
   "source": [
    "### Задание 3 ###\n",
    "\n",
    "Описать функцию $SumRange(A, B)$ целого типа, находящую сумму всех целых чисел от $A$ до $B$ включительно ($A$ и $B$ – целые). Если $A$ > $B$, то функция возвращает ноль. С помощью этой функции найти суммы чисел от $A$ до $B$ и от $B$ до $C$, если даны числа $A$, $B$, $C$."
   ]
  },
  {
   "cell_type": "code",
   "execution_count": 1,
   "metadata": {},
   "outputs": [
    {
     "name": "stdout",
     "output_type": "stream",
     "text": [
      "Сумма чисел от 1 до 5 включительно: 15\n",
      "Сумма чисел от 5 до 10 включительно: 45\n"
     ]
    }
   ],
   "source": [
    "# 3.\n",
    "def SumRange(A, B):\n",
    "    if A > B:\n",
    "        return 0\n",
    "    else:\n",
    "        return sum(range(A, B + 1))\n",
    "\n",
    "A = 1\n",
    "B = 5\n",
    "C = 10\n",
    "\n",
    "total_AB = SumRange(A, B)\n",
    "total_BC = SumRange(B, C)\n",
    "\n",
    "print(\"Сумма чисел от\", A, \"до\", B, \"включительно:\", total_AB)\n",
    "print(\"Сумма чисел от\", B, \"до\", C, \"включительно:\", total_BC)"
   ]
  },
  {
   "cell_type": "markdown",
   "metadata": {},
   "source": [
    "### Задание 4 ###\n",
    "\n",
    "Описать функцию $Quarter(x, y)$ целого типа, определяющую номер координатной четверти, в которой находится точка с ненулевыми вещественными координатами $(x, y)$. С помощью этой функции найти номера координатных четвертей для трех точек с данными ненулевыми координатами."
   ]
  },
  {
   "cell_type": "code",
   "execution_count": 5,
   "metadata": {},
   "outputs": [
    {
     "name": "stdout",
     "output_type": "stream",
     "text": [
      "Центр\n",
      "2\n",
      "3\n"
     ]
    }
   ],
   "source": [
    "# 4.\n",
    "\n",
    "def Quarter(x, y):\n",
    "    if x > 0 and y > 0:\n",
    "        return 1\n",
    "    elif x < 0 and y > 0:\n",
    "        return 2\n",
    "    elif x < 0 and y < 0:\n",
    "        return 3\n",
    "    elif x > 0 and y < 0:\n",
    "        return 4\n",
    "    else:\n",
    "        return \"Центр\"\n",
    "\n",
    "print(Quarter(0, 0)) \n",
    "print(Quarter(-1, 1)) \n",
    "print(Quarter(-1, -1))"
   ]
  },
  {
   "cell_type": "markdown",
   "metadata": {},
   "source": [
    "### Задание 5 ###\n",
    "\n",
    "Описать функцию $DegToRad(D)$ вещественного типа, находящую величину угла в радианах, если дана его величина $D$ в градусах ($D$ – вещественное число, $0 < D < 360$). Воспользоваться следующим соотношением: $180° = \\pi$ радианов. С помощью функции $DegToRad()$ перевести из градусов в радианы пять данных углов."
   ]
  },
  {
   "cell_type": "code",
   "execution_count": 11,
   "metadata": {},
   "outputs": [
    {
     "name": "stdout",
     "output_type": "stream",
     "text": [
      "Угол 0 градусов равен 0.0 радианам\n",
      "Угол 45 градусов равен 0.7853981633974483 радианам\n",
      "Угол 90 градусов равен 1.5707963267948966 радианам\n",
      "Угол 135 градусов равен 2.356194490192345 радианам\n",
      "Угол 180 градусов равен 3.141592653589793 радианам\n"
     ]
    }
   ],
   "source": [
    "# 5.\n",
    "\n",
    "import math\n",
    "\n",
    "def DegToRad(D):\n",
    "    return math.radians(D)\n",
    "\n",
    "angles = [0, 45, 90, 135, 180]\n",
    "\n",
    "for D in angles:\n",
    "    print(f\"Угол {D} градусов равен {DegToRad(D)} радианам\")"
   ]
  },
  {
   "cell_type": "markdown",
   "metadata": {},
   "source": [
    "### Задание 6 ###\n",
    "\n",
    "Описать процедуру $DigitCountSum(K, C, S)$, находящую количество $C$ цифр целого положительного числа $K$, а также их сумму $S$ ($K$ – входной, $C$ и $S$ – выходные параметры целого типа). С помощью этой процедуры найти количество и сумму цифр для каждого из пяти данных целых чисел."
   ]
  },
  {
   "cell_type": "code",
   "execution_count": 12,
   "metadata": {},
   "outputs": [
    {
     "name": "stdout",
     "output_type": "stream",
     "text": [
      "Число: 123123123, Кол-во: 9, Сумма: 18\n",
      "Число: 62232332, Кол-во: 8, Сумма: 23\n",
      "Число: 6758312, Кол-во: 7, Сумма: 32\n",
      "Число: 40404, Кол-во: 5, Сумма: 12\n",
      "Число: 22334455, Кол-во: 8, Сумма: 28\n"
     ]
    }
   ],
   "source": [
    "# 6.\n",
    "\n",
    "def DigitCountSum(K):\n",
    "    if K == 0:\n",
    "        return 0, 0\n",
    "    else:\n",
    "        count, sum = DigitCountSum(K // 10)\n",
    "        return count + 1, sum + K % 10\n",
    "\n",
    "numbers = [123123123, 62232332, 6758312, 40404, 22334455]\n",
    "\n",
    "for number in numbers:\n",
    "    count, sum = DigitCountSum(number)\n",
    "    print(f\"Число: {number}, Кол-во: {count}, Сумма: {sum}\")"
   ]
  },
  {
   "cell_type": "code",
   "execution_count": null,
   "metadata": {},
   "outputs": [],
   "source": []
  }
 ],
 "metadata": {
  "kernelspec": {
   "display_name": "Python 3 (ipykernel)",
   "language": "python",
   "name": "python3"
  },
  "language_info": {
   "codemirror_mode": {
    "name": "ipython",
    "version": 3
   },
   "file_extension": ".py",
   "mimetype": "text/x-python",
   "name": "python",
   "nbconvert_exporter": "python",
   "pygments_lexer": "ipython3",
   "version": "3.11.4"
  }
 },
 "nbformat": 4,
 "nbformat_minor": 4
}
