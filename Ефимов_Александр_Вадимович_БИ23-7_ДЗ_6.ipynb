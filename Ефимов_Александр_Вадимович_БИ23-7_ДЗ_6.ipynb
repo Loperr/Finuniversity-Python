{
 "cells": [
  {
   "cell_type": "markdown",
   "id": "7e85aab7",
   "metadata": {},
   "source": [
    "## Алгоритмы и структуры данных в языке Python\n",
    "\n",
    "## Домашнее задание 6\n",
    "\n",
    "Выполните домашнее задание и сохраните в файле с именем в формате <Фамилия_Имя_Группа_ДЗ_6>.ipynb. Загрузите в контрольную точку электронного учебного курса дисциплины."
   ]
  },
  {
   "cell_type": "markdown",
   "id": "5476779e",
   "metadata": {},
   "source": [
    "<p style=\"background:powderblue; font-weight:bold\">Задача 1</p>\n",
    "\n",
    "Дана матрица размера $m \\times n$. Зеркально отразить ее элементы относительно горизонтальной оси симметрии матрицы (при этом поменяются местами строки с номерами $1$ и $m$, $2$ и $m—1$ и т. д.)."
   ]
  },
  {
   "cell_type": "code",
   "execution_count": 33,
   "id": "33a0a060",
   "metadata": {},
   "outputs": [
    {
     "name": "stdout",
     "output_type": "stream",
     "text": [
      "[[4, 3, 2, 1], [8, 7, 6, 5], [12, 11, 10, 9], [16, 15, 14, 13]]\n"
     ]
    }
   ],
   "source": [
    "# 1.\n",
    "def mirror_matrix(matrix):\n",
    "    m, n = len(matrix), len(matrix[0])\n",
    "    mirrored_matrix = [[0 for _ in range(n)] for _ in range(m)]\n",
    "    for i in range(m):\n",
    "        for j in range(n):\n",
    "            mirrored_matrix[i][n - j - 1] = matrix[i][j]\n",
    "    \n",
    "    return mirrored_matrix\n",
    "\n",
    "matrix = [\n",
    "    [1, 2, 3, 4],\n",
    "    [5, 6, 7, 8],\n",
    "    [9, 10, 11, 12],\n",
    "    [13, 14, 15, 16]\n",
    "]\n",
    "mirrored_matrix = mirror_matrix(matrix)\n",
    "print(mirrored_matrix)"
   ]
  },
  {
   "cell_type": "markdown",
   "id": "bb96d33a",
   "metadata": {},
   "source": [
    "<p style=\"background:powderblue; font-weight:bold\">Задача 2</p>\n",
    "\n",
    "Дана матрица размера $m \\times n$. Удалить строку, содержащую минимальный элемент матрицы."
   ]
  },
  {
   "cell_type": "code",
   "execution_count": 19,
   "id": "053b9145",
   "metadata": {},
   "outputs": [
    {
     "name": "stdout",
     "output_type": "stream",
     "text": [
      "Матрица после удаления строки с минимальным элементом:  [[4, 5, 3], [7, 2, 4]]\n"
     ]
    }
   ],
   "source": [
    "# 2.\n",
    "matrix = [[1, 3, 1],\n",
    "          [4, 5, 3],\n",
    "          [7, 2, 4]]\n",
    "min_value = min(min(row) for row in matrix)\n",
    "min_row = next(i for i, row in enumerate(matrix) if min_value in row)\n",
    "del matrix[min_row]\n",
    "\n",
    "print(\"Матрица после удаления строки с минимальным элементом: \", matrix)"
   ]
  },
  {
   "cell_type": "markdown",
   "id": "93ae7a71",
   "metadata": {},
   "source": [
    "<p style=\"background:powderblue; font-weight:bold\">Задача 3</p>\n",
    "\n",
    "Дана матрица размера $m \\times n$. Удалить столбец, содержащий максимальный элемент матрицы."
   ]
  },
  {
   "cell_type": "code",
   "execution_count": 32,
   "id": "66de8175",
   "metadata": {},
   "outputs": [
    {
     "name": "stdout",
     "output_type": "stream",
     "text": [
      "Исходная матрица:\n",
      "[1, 2, 3, 4, 5]\n",
      "[5, 4, 3, 2, 1]\n",
      "[8, 2, 4, 1, 5]\n",
      "[3, 4, 3, 2, 1]\n",
      "Матрица после удаления столбца с максимальным элементом:\n",
      "[2, 3, 4, 5]\n",
      "[4, 3, 2, 1]\n",
      "[2, 4, 1, 5]\n",
      "[4, 3, 2, 1]\n"
     ]
    }
   ],
   "source": [
    "# 3.\n",
    "def find_max_element(matrix):\n",
    "    max_value = float('-inf')\n",
    "    max_index = None\n",
    "    for i in range(len(matrix)):\n",
    "        for j in range(len(matrix[i])):\n",
    "            if matrix[i][j] > max_value:\n",
    "                max_value = matrix[i][j]\n",
    "                max_index = j\n",
    "    return max_index\n",
    "def delete_column(matrix, index):\n",
    "    return [row[:index] + row[index+1:] for row in matrix]\n",
    "def remove_max_column(matrix):\n",
    "    max_index = find_max_element(matrix)\n",
    "    return delete_column(matrix, max_index)\n",
    "matrix = [\n",
    "    [1, 2, 3, 4, 5],\n",
    "    [5, 4, 3, 2, 1],\n",
    "    [8, 2, 4, 1, 5],\n",
    "    [3, 4, 3, 2, 1]\n",
    "]\n",
    "\n",
    "print(\"Исходная матрица:\")\n",
    "for row in matrix:\n",
    "    print(row)\n",
    "\n",
    "new_matrix = remove_max_column(matrix)\n",
    "\n",
    "print(\"Матрица после удаления столбца с максимальным элементом:\")\n",
    "for row in new_matrix:\n",
    "    print(row)\n"
   ]
  },
  {
   "cell_type": "markdown",
   "id": "25d5f20c",
   "metadata": {},
   "source": [
    "<p style=\"background:powderblue; font-weight:bold\">Задача 4</p>\n",
    "\n",
    "Напишите программу: <br>\n",
    "а) чтобы проверить, существует ли данный ключ в словаре;<br>\n",
    "б) для создания и отображения всех комбинаций букв, выбирая каждую букву из другого ключа в словаре, например, задан словарь `{'1': ['a', 'b'], '2': ['c', 'd']}`, результат: ac, ad, bc, bd;<br>\n",
    "в) для замены значений словаря их средним значением."
   ]
  },
  {
   "cell_type": "code",
   "execution_count": 34,
   "id": "4106e368",
   "metadata": {},
   "outputs": [
    {
     "name": "stdout",
     "output_type": "stream",
     "text": [
      "Ключ существует в словаре\n",
      "['ac', 'ad', 'bc', 'bd']\n",
      "{'1': 1.5, '2': 3.5}\n"
     ]
    }
   ],
   "source": [
    "# 4.\n",
    "#а\n",
    "my_dict = {\"1\": ['a', 'b'], \"2\": ['c', 'd']}\n",
    "key_to_check = \"1\"\n",
    "if key_to_check in my_dict:\n",
    "    print(\"Ключ существует в словаре\")\n",
    "else:\n",
    "    print(\"Ключ не существует в словаре\")\n",
    "#б\n",
    "my_dict = {\"1\": ['a', 'b'], \"2\": ['c', 'd']}\n",
    "combinations = []\n",
    "for letter1 in my_dict[\"1\"]:\n",
    "    for letter2 in my_dict[\"2\"]:\n",
    "        combinations.append(letter1 + letter2)\n",
    "print(combinations)\n",
    "#в\n",
    "my_dict = {\"1\": [1, 2], \"2\": [3, 4]}\n",
    "for key in my_dict:\n",
    "    avg = sum(my_dict[key]) / len(my_dict[key])\n",
    "    my_dict[key] = avg\n",
    "print(my_dict)"
   ]
  },
  {
   "cell_type": "markdown",
   "id": "244ab5e5",
   "metadata": {},
   "source": [
    "<p style=\"background:powderblue; font-weight:bold\">Задача 5</p>\n",
    "\n",
    "Напишите программу: <br>\n",
    "а) для перебора словарей с использованием цикла for;<br>\n",
    "б) чтобы найти три наибольших значения соответствующих ключей в словаре;<br>\n",
    "в) для сопоставления значений ключей в двух словарях.<br>"
   ]
  },
  {
   "cell_type": "code",
   "execution_count": 35,
   "id": "2c7145fb",
   "metadata": {},
   "outputs": [
    {
     "name": "stdout",
     "output_type": "stream",
     "text": [
      "чблоко 1\n",
      "банан 2\n",
      "ананас 3\n",
      "[('d', 5), ('e', 4), ('b', 3)]\n",
      "Ключ: b, Значение в словаре1: 2, Значение в словаре2: 4\n",
      "Ключ: c, Значение в словаре1: 3, Значение в словаре2: 5\n"
     ]
    }
   ],
   "source": [
    "# 5.\n",
    "#а\n",
    "my_dict = {'чблоко': 1, 'банан': 2, 'ананас': 3}\n",
    "for key, value in my_dict.items():\n",
    "    print(key, value)\n",
    "#б\n",
    "D = {'a' : 1 , 'b' : 3, 'c': 2, 'd': 5, 'e': 4}\n",
    "three_max_values = sorted(D.items(), key=lambda item: item[1], reverse=True)[:3]\n",
    "print(three_max_values)\n",
    "#в\n",
    "dict1 = {'a': 1, 'b': 2, 'c': 3}\n",
    "dict2 = {'b': 4, 'c': 5, 'd': 6}\n",
    "\n",
    "for key in dict1:\n",
    "    if key in dict2:\n",
    "        print(f\"Ключ: {key}, Значение в словаре1: {dict1[key]}, Значение в словаре2: {dict2[key]}\")"
   ]
  },
  {
   "cell_type": "markdown",
   "id": "09f94570",
   "metadata": {},
   "source": [
    "<p style=\"background:powderblue; font-weight:bold\">Задача 6</p>\n",
    "\n",
    "Напишите программу <br>\n",
    "а) для создания и печати словаря, содержащего число `(от 1 до n)` в форме `(x, x*x)`, например, при $n = 5$ получить словарь `{1: 1, 2: 4, 3: 9, 4: 16, 5: 25}`; <br>\n",
    "б) для объединения значений в списке словарей;<br>\n",
    "в) для удаления пустых элементов из заданного словаря."
   ]
  },
  {
   "cell_type": "code",
   "execution_count": 36,
   "id": "c4adb024",
   "metadata": {},
   "outputs": [
    {
     "name": "stdout",
     "output_type": "stream",
     "text": [
      "{1: 1, 2: 4, 3: 9, 4: 16, 5: 25}\n",
      "{'a': 1, 'b': 2, 'c': 3}\n",
      "{'a': 1, 'c': 3}\n"
     ]
    }
   ],
   "source": [
    "# 6.\n",
    "#а\n",
    "n = 5\n",
    "my_dict = {i: i*i for i in range(1, n+1)}\n",
    "print(my_dict)\n",
    "#б\n",
    "list_of_dicts = [{'a': 1}, {'b': 2}, {'c': 3}]\n",
    "merged_dict = {}\n",
    "for dict_ in list_of_dicts:\n",
    "    merged_dict.update(dict_)\n",
    "print(merged_dict)\n",
    "#б\n",
    "my_dict = {'a': 1, 'b': None, 'c': 3, 'd': []}\n",
    "my_dict = {k: v for k, v in my_dict.items() if v}\n",
    "print(my_dict)"
   ]
  }
 ],
 "metadata": {
  "kernelspec": {
   "display_name": "Python 3 (ipykernel)",
   "language": "python",
   "name": "python3"
  },
  "language_info": {
   "codemirror_mode": {
    "name": "ipython",
    "version": 3
   },
   "file_extension": ".py",
   "mimetype": "text/x-python",
   "name": "python",
   "nbconvert_exporter": "python",
   "pygments_lexer": "ipython3",
   "version": "3.11.4"
  }
 },
 "nbformat": 4,
 "nbformat_minor": 5
}
