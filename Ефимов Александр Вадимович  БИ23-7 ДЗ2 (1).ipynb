{
 "cells": [
  {
   "cell_type": "markdown",
   "id": "97518b57",
   "metadata": {},
   "source": [
    "# Домашнее задание 2"
   ]
  },
  {
   "cell_type": "markdown",
   "id": "f81f319e",
   "metadata": {},
   "source": [
    "<p style = \"background:powderblue\">1. Дополнить программу</p>\n",
    "\n",
    "Дополните программу таким образом, чтобы в результате ее исполнения на экран были выведены значения True, True, True, True, в одну строку через пробел.\n",
    "```\n",
    "a = True or True # внесите изменения в этой строке если необходимо\n",
    "b = True < False # внесите изменения в этой строке если необходимо\n",
    "c = False or True # внесите изменения в этой строке если необходимо\n",
    "d = False == False # внесите изменения в этой строке если необходимо\n",
    "```"
   ]
  },
  {
   "cell_type": "code",
   "execution_count": 2,
   "id": "a824eb22",
   "metadata": {},
   "outputs": [
    {
     "name": "stdout",
     "output_type": "stream",
     "text": [
      "True True True True\n"
     ]
    }
   ],
   "source": [
    "# 1. \n",
    "a = True or True # внесите изменения в этой строке если необходимо\n",
    "b = True is not False # внесите изменения в этой строке если необходимо\n",
    "c = False or True # внесите изменения в этой строке если необходимо\n",
    "d = False == False # внесите изменения в этой строке если необходимо\n",
    "print(a,b,c,d)\n"
   ]
  },
  {
   "cell_type": "markdown",
   "id": "3947000b",
   "metadata": {},
   "source": [
    "<p style = \"background:powderblue\">2. Однозначное число</p>\n",
    "\n",
    "Написать программу, которая проверяет, является ли введенное пользователем число однозначным (состоящим из одной цифры); если является - вывести \"yes\", а если нет - вывести \"no\".\n",
    "\n",
    "Проверить для входных данных: 1, 10, -3, -40, 0<br>\n",
    "Ответы: yes, no, yes, no, yes."
   ]
  },
  {
   "cell_type": "code",
   "execution_count": 4,
   "id": "763de111",
   "metadata": {},
   "outputs": [
    {
     "name": "stdout",
     "output_type": "stream",
     "text": [
      "yes no yes no yes\n"
     ]
    }
   ],
   "source": [
    "# 2.\n",
    "def f(x):\n",
    "    x = abs(x)\n",
    "    b = str(x)\n",
    "    if len(b) == 1:\n",
    "        return \"yes\"\n",
    "    else:\n",
    "        return \"no\"\n",
    "print(f(1), f(10), f(-3), f(-40), f(0))\n"
   ]
  },
  {
   "cell_type": "markdown",
   "id": "4be08335",
   "metadata": {},
   "source": [
    "<p style = \"background:powderblue\">3. Сравнить две строки</p>\n",
    "\n",
    "Написать программу, которая будет сравнивать две введенные пользователем строки.\n",
    "\n",
    "Если введенные строки равны — вывести сообщение \"strings are equal\" и завершить выполнение программы.\n",
    "\n",
    "Если строки не равны, то программа должна сообщить об этом пользователю и предложить исправить вторую введенную строку; текст сообщения для вывода на экран - \"strings are not equal, correct the second string\".\n",
    "\n",
    "После того как пользователь повторно ввел вторую строку вновь выполнить проверку на равенство строк и вывести на экран результат сравнения (\"strings are equal\" или \"strings are not equal\")."
   ]
  },
  {
   "cell_type": "code",
   "execution_count": 14,
   "id": "0d332407",
   "metadata": {},
   "outputs": [
    {
     "name": "stdout",
     "output_type": "stream",
     "text": [
      "one: th\n",
      "two: th\n",
      "strings are equal\n"
     ]
    }
   ],
   "source": [
    "# 3. Ваш код здесь\n",
    "\n",
    "first_str = input(\"one: \")\n",
    "second_str = input(\"two: \")\n",
    "# место для вашего кода\n",
    "if first_str == second_str: \n",
    "    print(\"strings are equal\")\n",
    "else:\n",
    "    while first_str != second_str:\n",
    "        print(\"strings are not equal, correct the second string\")\n",
    "        first_str = input(\"one: \")\n",
    "        second_str = input(\"two: \")\n",
    "    print(\"strings are equal\")\n",
    "        \n",
    "\n"
   ]
  },
  {
   "cell_type": "markdown",
   "id": "0830b499",
   "metadata": {},
   "source": [
    "<p style = \"background:powderblue\">4. Математическая операция</p>\n",
    "\n",
    "Написать программу, которая принимает от пользователя математический операнд (\"+\" или \"*\") и два целых числа, а затем выводит результат вычисления выбранной математической операции с этими числами. Если введен недопустимый операнд выводится ошибка - \"operation unknown\"."
   ]
  },
  {
   "cell_type": "code",
   "execution_count": 24,
   "id": "289e153f",
   "metadata": {},
   "outputs": [
    {
     "name": "stdout",
     "output_type": "stream",
     "text": [
      "Введите первое число: 1\n",
      "Введите второе число: 2\n",
      "Введите операнд + или *: =\n",
      "operation unknown\n"
     ]
    }
   ],
   "source": [
    "# 4. Ваш код здесь\n",
    "first_num = int(input(\"Введите первое число: \"))\n",
    "second_num = int(input(\"Введите второе число: \"))\n",
    "operand = input(\"Введите операнд + или *: \")\n",
    "if operand == \"+\":\n",
    "    print(first_num + second_num)\n",
    "elif operand == \"*\":\n",
    "    print(first_num * second_num)\n",
    "else:\n",
    "    print(\"operation unknown\")\n"
   ]
  },
  {
   "cell_type": "markdown",
   "id": "4f7e56ce",
   "metadata": {},
   "source": [
    "<p style = \"background:powderblue\">5. Математическая операция 2</p>\n",
    "\n",
    "Написать программу, которая:\n",
    "\n",
    "1. Запрашивает базовое целое число base.\n",
    "2. Запрашивает математический операнд сложения или умножения в виде символов + или * соответственно.\n",
    "3. Запрашивает новое целое число next, а затем совершает операцию из пункта 2 над числами base и next. Результат вычисления записывается в base.\n",
    "4. Запрашивает математический операнд вычитания или деления в виде символов - или / соответственно.\n",
    "5. Запрашивает новое целое число next, а затем совершает операцию из пункта 4 над числами base и next. Результат вычисления программа должна вывести на экран.\n",
    "\n",
    "Если на каком-то шаге введено неизвестное значение, выводится текст \"error\".\n",
    "\n",
    "```\n",
    "Входные данные, результат\n",
    "(5, +, 7, -, 3), 9\n",
    "(5, +, 7, /, 3), 4.0\n",
    "(5, *, 7, *), error\n",
    "(5, -), error\n",
    "(11, /), error\n",
    "```"
   ]
  },
  {
   "cell_type": "code",
   "execution_count": 12,
   "id": "b6af0a9a",
   "metadata": {},
   "outputs": [
    {
     "name": "stdout",
     "output_type": "stream",
     "text": [
      "base: 5\n",
      "operation1: *\n",
      "next: 7\n",
      "operation2: *\n",
      "error\n"
     ]
    }
   ],
   "source": [
    "# 5. Ваш код здесь\n",
    "\n",
    "base = int(input(\"base: \"))\n",
    "operation1 = input(\"operation1: \")\n",
    "# место для вашего кода\n",
    "if operation1 == \"+\":\n",
    "    next = int(input(\"next: \"))\n",
    "    base = base + next\n",
    "    operation2 = input(\"operation2: \")\n",
    "    if operation2 == \"-\":\n",
    "        next = int(input(\"next: \"))\n",
    "        print(base - next)\n",
    "    elif operation2 == \"/\":\n",
    "        next = int(input(\"next: \"))\n",
    "        print(base / next)\n",
    "    else:\n",
    "        print(\"error\")\n",
    "elif operation1 == \"*\":\n",
    "    next = int(input(\"next: \"))\n",
    "    base = base * next\n",
    "    operation2 = input(\"operation2: \")\n",
    "    if operation2 == \"-\":\n",
    "        next = int(input(\"next: \"))\n",
    "        print(base - next)\n",
    "    elif operation2 == \"/\":\n",
    "        next = int(input(\"next: \"))\n",
    "        print(base / next)\n",
    "    else:\n",
    "        print(\"error\")\n",
    "else:\n",
    "    print(\"error\")"
   ]
  },
  {
   "cell_type": "markdown",
   "id": "132b5f2f",
   "metadata": {},
   "source": [
    "<p style = \"background:powderblue\">6. Угадай число</p>\n",
    "\n",
    "Написать программу, которая принимает на вход целое число, а затем предлагает пользователю три раза угадать введенное число, соблюдая следующие правила:\n",
    "\n",
    "- если введенное число больше загаданного, вывести текст \"more\" и перейти к следующей попытке;\n",
    "- если введенное число меньше загаданного, вывести текст \"less\" и перейти к следующей попытке;\n",
    "- если введенное число равно загаданному, вывести текст \"You win!\" и завершить программу;\n",
    "- если число не угадано за три попытки, вывести текст \"Game over!\".\n",
    "\n",
    "```\n",
    "Входные данные, результат\n",
    "(7, 5, 9, 7), (less, more, You win!)\n",
    "(0, 5, -2, 0), (more, less, You win!)\n",
    "(10, 5, 7, 9), (less, less, Game over!)\n",
    "(15, 3, 8, 11), (less, less, Game over!)\n",
    "(-7, -7), (You win!)\n",
    "```"
   ]
  },
  {
   "cell_type": "code",
   "execution_count": 11,
   "id": "25c2c61f",
   "metadata": {},
   "outputs": [
    {
     "name": "stdout",
     "output_type": "stream",
     "text": [
      "7\n",
      "Try:  5\n",
      "more\n",
      "Try:  9\n",
      "less\n",
      "Try:  7\n",
      "You win!\n"
     ]
    }
   ],
   "source": [
    "# 6. Ваш код здесь\n",
    "\n",
    "#value = int(input())\n",
    "#attempt = int(input('First try:  '))\n",
    "# место для вашего кода\n",
    "value = int(input())\n",
    "for i in range(3):\n",
    "    attempt = int(input('Try:  '))\n",
    "    if attempt > value:\n",
    "        print(\"less\")\n",
    "    elif attempt < value:\n",
    "        print(\"more\")\n",
    "    else:\n",
    "        print(\"You win!\")\n",
    "        break\n",
    "else:\n",
    "    print(\"Game over!\")"
   ]
  }
 ],
 "metadata": {
  "kernelspec": {
   "display_name": "Python 3 (ipykernel)",
   "language": "python",
   "name": "python3"
  },
  "language_info": {
   "codemirror_mode": {
    "name": "ipython",
    "version": 3
   },
   "file_extension": ".py",
   "mimetype": "text/x-python",
   "name": "python",
   "nbconvert_exporter": "python",
   "pygments_lexer": "ipython3",
   "version": "3.11.4"
  }
 },
 "nbformat": 4,
 "nbformat_minor": 5
}
