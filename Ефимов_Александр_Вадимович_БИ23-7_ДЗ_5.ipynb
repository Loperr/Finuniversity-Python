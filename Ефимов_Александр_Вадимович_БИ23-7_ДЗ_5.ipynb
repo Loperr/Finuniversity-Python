{
 "cells": [
  {
   "cell_type": "markdown",
   "id": "eb8809b8",
   "metadata": {},
   "source": [
    "## Алгоритмы и структуры данных в языке Python\n",
    "\n",
    "\n",
    "# Домашнее задание 5\n",
    "\n",
    "Сохраните выполненное домашнее задание в файле Jupyter Notebook с именем в формате <Фамилия_Имя_Группа_ДЗ_5>. Расширение файла должно быть `.ipynb`. Загрузите файл в контрольную точку электронного учебного курса."
   ]
  },
  {
   "cell_type": "markdown",
   "id": "090f04d0",
   "metadata": {},
   "source": [
    "<p style=\"background:powderblue; font-weight:bold\">Задача 1. Отсортированный словарь</p>\n",
    "\n",
    "Отсортируйте словарь по возрастанию и по убыванию его значений.<br>\n",
    "Пример. <br>\n",
    "```\n",
    "{1: 2, 3: 4, 4: 3, 2: 1, 0: 0} => {0: 0, 2: 1, 1: 2, 4: 3, 3: 4}\n",
    "{1: 2, 3: 4, 4: 3, 2: 1, 0: 0} => {3: 4, 4: 3, 1: 2, 2: 1, 0: 0}\n",
    "```"
   ]
  },
  {
   "cell_type": "code",
   "execution_count": 32,
   "id": "1484e293",
   "metadata": {},
   "outputs": [
    {
     "name": "stdout",
     "output_type": "stream",
     "text": [
      "{0: 0, 2: 1, 1: 2, 4: 3, 3: 4}\n",
      "{3: 4, 4: 3, 1: 2, 2: 1, 0: 0}\n"
     ]
    }
   ],
   "source": [
    "# 1.\n",
    "dictionary = {1: 2, 3: 4, 4: 3, 2: 1, 0: 0}\n",
    "sorted_dict = dict(sorted(dictionary.items(), key=lambda item: item[1]))\n",
    "print(sorted_dict)\n",
    "\n",
    "dictionary = {1: 2, 3: 4, 4: 3, 2: 1, 0: 0}\n",
    "sorted_dict = dict(sorted(dictionary.items(), key=lambda item: item[1], reverse=True))\n",
    "print(sorted_dict)"
   ]
  },
  {
   "cell_type": "markdown",
   "id": "a0ea648b",
   "metadata": {},
   "source": [
    "<p style=\"background:powderblue; font-weight:bold\">Задача 2. Ключи в квадрате</p>\n",
    "\n",
    "Напишите программу для печати словаря, в котором ключами являются числа от 1 до 15 (оба включены), а значениями являются квадраты ключей."
   ]
  },
  {
   "cell_type": "code",
   "execution_count": 31,
   "id": "2c91949a",
   "metadata": {},
   "outputs": [
    {
     "name": "stdout",
     "output_type": "stream",
     "text": [
      "1 1\n",
      "2 4\n",
      "3 9\n",
      "4 16\n",
      "5 25\n",
      "6 36\n",
      "7 49\n",
      "8 64\n",
      "9 81\n",
      "10 100\n",
      "11 121\n",
      "12 144\n",
      "13 169\n",
      "14 196\n",
      "15 225\n"
     ]
    }
   ],
   "source": [
    "# 2.\n",
    "d = dict()\n",
    "for x in range(1, 16):\n",
    "    d[x] = x**2\n",
    "\n",
    "for k, v in d.items():\n",
    "    print(k, v)"
   ]
  },
  {
   "cell_type": "markdown",
   "id": "ea1b8ee4",
   "metadata": {},
   "source": [
    "<p style=\"background:powderblue; font-weight:bold\">Задача 3. Список значений</p>\n",
    "\n",
    "Напишите программу для преобразования списка словарей в список значений, соответствующих указанному ключу. Имя ключа вводится с клавиатуры.<br>\n",
    "Пример.<br>\n",
    "```\n",
    "[{'name': 'Валентина', 'age': 18, 'score': 99}, \n",
    " {'name': 'Михаил', 'age': 22, 'score': 67}, \n",
    " {'name': 'Роксана', 'age': 20, 'score': 80}, \n",
    " {'name': 'Давид', 'age': 18, 'score': 70}]\n",
    "\n",
    "age\n",
    "\n",
    "[18, 22, 20, 18]\n",
    "```\n"
   ]
  },
  {
   "cell_type": "code",
   "execution_count": 30,
   "id": "01b76047",
   "metadata": {},
   "outputs": [
    {
     "name": "stdout",
     "output_type": "stream",
     "text": [
      "Введите ключ: age\n",
      "[18, 22, 20, 18]\n"
     ]
    }
   ],
   "source": [
    "# 3.\n",
    "data = [{'name': 'Валентина', 'age': 18, 'score': 99}, \n",
    "        {'name': 'Михаил', 'age': 22, 'score': 67}, \n",
    "        {'name': 'Роксана', 'age': 20, 'score': 80}, \n",
    "        {'name': 'Давид', 'age': 18, 'score': 70}]\n",
    "\n",
    "key = input(\"Введите ключ: \")\n",
    "\n",
    "values = [d[key] for d in data if key in d]\n",
    "\n",
    "print(values)"
   ]
  },
  {
   "cell_type": "markdown",
   "id": "b02bc61f",
   "metadata": {},
   "source": [
    "<p style=\"background:powderblue; font-weight:bold\">Задача 4. Анаграммы</p>\n",
    "\n",
    "Напишите программу, которая найдет все анаграммы в заданном списке строк, а затем сгруппирует их вместе. Слова, не образующие анаграммы, поместите в отдельных списках<br>\n",
    "Пример:\n",
    "```\n",
    "['коршун', 'росинка', 'пила', 'масло', 'смола', 'шнурок', 'липа', 'чулок', 'соринка', 'армия']\n",
    "=>\n",
    "[['коршун', 'шнурок'], ['росинка', 'соринка'], ['пила', 'липа'], ['масло', 'смола'], ['чулок'], ['армия']]\n",
    "```"
   ]
  },
  {
   "cell_type": "code",
   "execution_count": 29,
   "id": "d878e89c",
   "metadata": {},
   "outputs": [
    {
     "name": "stdout",
     "output_type": "stream",
     "text": [
      "[['коршун', 'шнурок'], ['росинка', 'соринка'], ['пила', 'липа'], ['масло', 'смола'], ['чулок'], ['армия']]\n"
     ]
    }
   ],
   "source": [
    "# 4.\n",
    "def create_anagram_key(string):\n",
    "    return ''.join(sorted(string))\n",
    "\n",
    "def group_anagrams(words):\n",
    "    anagram_groups = {}\n",
    "    for word in words:\n",
    "        key = create_anagram_key(word)\n",
    "        if key in anagram_groups:\n",
    "            anagram_groups[key].append(word)\n",
    "        else:\n",
    "            anagram_groups[key] = [word]\n",
    "    return list(anagram_groups.values())\n",
    "\n",
    "words = ['коршун', 'росинка', 'пила', 'масло', 'смола', 'шнурок', 'липа', 'чулок', 'соринка', 'армия']\n",
    "print(group_anagrams(words))"
   ]
  },
  {
   "cell_type": "markdown",
   "id": "16104acf",
   "metadata": {},
   "source": [
    "<p style=\"background:powderblue; font-weight:bold\">Задача 5. Префикс</p>\n",
    "\n",
    "Найдите наибольший общий префикс строк.<br>\n",
    "Пример.\n",
    "\n",
    "```\n",
    "['телеграф', 'телегид', 'телепорт'] => теле\n",
    "```"
   ]
  },
  {
   "cell_type": "code",
   "execution_count": 28,
   "id": "99415609",
   "metadata": {},
   "outputs": [
    {
     "name": "stdout",
     "output_type": "stream",
     "text": [
      "теле\n"
     ]
    }
   ],
   "source": [
    "# 5.\n",
    "def longest_common_prefix(strs):\n",
    "    if not strs:\n",
    "        return \"\"\n",
    "\n",
    "    prefix = strs[0]\n",
    "    for i in range(1, len(strs)):\n",
    "        while strs[i].find(prefix) != 0:\n",
    "            prefix = prefix[:-1]\n",
    "            if not prefix:\n",
    "                return \"\"\n",
    "    return prefix\n",
    "print(longest_common_prefix(['телеграф', 'телегид', 'телепорт']))"
   ]
  },
  {
   "cell_type": "markdown",
   "id": "b85d7d3e",
   "metadata": {},
   "source": [
    "<p style=\"background:powderblue; font-weight:bold\">Задача 6. Комбинации троек</p>\n",
    "\n",
    "Найдите все уникальные комбинации трех чисел из заданного списка чисел, в сумме дающие целевое число.\n",
    "\n",
    "Пример.<br>\n",
    "```\n",
    "[1, 2, 3, 4, 5, 6, 7, 8, 9]\n",
    "12\n",
    "=>\n",
    "[(1, 3, 8), (1, 4, 7), (1, 2, 9), (1, 5, 6), (3, 4, 5), (2, 3, 7), (2, 4, 6)]\n",
    "\n",
    "[1, 2, 3, 4, 5, 6, 7, 8, 9]\n",
    "17\n",
    "=>\n",
    "[(4, 5, 8), (2, 6, 9), (3, 5, 9), (2, 7, 8), (4, 6, 7), (3, 6, 8), (1, 7, 9)]\n",
    "```"
   ]
  },
  {
   "cell_type": "code",
   "execution_count": 33,
   "id": "b8098106",
   "metadata": {},
   "outputs": [
    {
     "name": "stdout",
     "output_type": "stream",
     "text": [
      "[(1, 7, 9), (2, 6, 9), (2, 7, 8), (3, 5, 9), (3, 6, 8), (4, 5, 8), (4, 6, 7)]\n"
     ]
    }
   ],
   "source": [
    "# 6.\n",
    "def find_combinations(numbers, target):\n",
    "    combinations = []\n",
    "    for i in range(len(numbers)):\n",
    "        for j in range(i+1, len(numbers)):\n",
    "            for k in range(j+1, len(numbers)):\n",
    "                if numbers[i] + numbers[j] + numbers[k] == target:\n",
    "                    combination = tuple(sorted([numbers[i], numbers[j], numbers[k]]))\n",
    "                    if combination not in combinations:\n",
    "                        combinations.append(combination)\n",
    "    return combinations\n",
    "\n",
    "numbers = [1, 2, 3, 4, 5, 6, 7, 8, 9]\n",
    "target = 17\n",
    "print(find_combinations(numbers, target))"
   ]
  },
  {
   "cell_type": "code",
   "execution_count": null,
   "id": "870196c3",
   "metadata": {},
   "outputs": [],
   "source": []
  }
 ],
 "metadata": {
  "kernelspec": {
   "display_name": "Python 3 (ipykernel)",
   "language": "python",
   "name": "python3"
  },
  "language_info": {
   "codemirror_mode": {
    "name": "ipython",
    "version": 3
   },
   "file_extension": ".py",
   "mimetype": "text/x-python",
   "name": "python",
   "nbconvert_exporter": "python",
   "pygments_lexer": "ipython3",
   "version": "3.11.4"
  }
 },
 "nbformat": 4,
 "nbformat_minor": 5
}
