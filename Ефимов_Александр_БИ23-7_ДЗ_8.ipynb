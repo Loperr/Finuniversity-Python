{
 "cells": [
  {
   "cell_type": "markdown",
   "metadata": {},
   "source": [
    "# Домашнее задание 8"
   ]
  },
  {
   "cell_type": "markdown",
   "metadata": {},
   "source": [
    "### Задание 1\n",
    "\n",
    "Напишите функцию, которая возвращает  словарь вида\n",
    "\n",
    "`d = {'upper_case': 0, 'lower_case': 0}`\n",
    "\n",
    "с количеством прописных и строчных букв в предложении. Используйте методы `isupper()` и `islower()`.\n",
    "\n",
    "```\n",
    "Финансовый университет при Правительстве Российской Федерации\n",
    "=> {'upper_case': 4, 'lower_case': 52}\n",
    "```"
   ]
  },
  {
   "cell_type": "code",
   "execution_count": 15,
   "metadata": {},
   "outputs": [
    {
     "name": "stdout",
     "output_type": "stream",
     "text": [
      "{'upper_case': 4, 'lower_case': 52}\n"
     ]
    }
   ],
   "source": [
    "# 1.\n",
    "def count_cases(sentence):\n",
    "    upper_case = 0\n",
    "    lower_case = 0\n",
    "\n",
    "    for char in sentence:\n",
    "        if char.isupper():\n",
    "            upper_case += 1\n",
    "        elif char.islower():\n",
    "            lower_case += 1\n",
    "\n",
    "    return {'upper_case': upper_case, 'lower_case': lower_case}\n",
    "sentence = \"Финансовый университет при Правительстве Российской Федерации\"\n",
    "print(count_cases(sentence))"
   ]
  },
  {
   "cell_type": "markdown",
   "metadata": {},
   "source": [
    "### Задание 2 ###\n",
    "\n",
    "Напишите функцию `avg_orders()`, которая возвращает среднее число заказов, выполненных каждым менеджером.\n",
    "\n",
    "```\n",
    "orders_data=[{'manager': 'Светлана', 'orders': 12},\n",
    "             {'manager': 'Светлана', 'orders': 7},\n",
    "             {'manager': 'Ирина', 'orders': 3},\n",
    "             {'manager': 'Ирина', 'orders': 32},\n",
    "             {'manager': 'Любовь', 'orders': 70},\n",
    "             {'manager': 'Любовь', 'orders': 20}]\n",
    "```"
   ]
  },
  {
   "cell_type": "code",
   "execution_count": 16,
   "metadata": {},
   "outputs": [
    {
     "name": "stdout",
     "output_type": "stream",
     "text": [
      "{'Светлана': 9.5, 'Ирина': 17.5, 'Любовь': 45.0}\n"
     ]
    }
   ],
   "source": [
    "# 2.\n",
    "def avg_orders(orders_data):\n",
    "    manager_orders = {}\n",
    "    for order in orders_data:\n",
    "        manager = order['manager']\n",
    "        if manager not in manager_orders:\n",
    "            manager_orders[manager] = []\n",
    "        manager_orders[manager].append(order['orders'])\n",
    "   \n",
    "    avg_orders_per_manager = {}\n",
    "    for manager, orders in manager_orders.items():\n",
    "        avg_orders_per_manager[manager] = sum(orders) / len(orders)\n",
    "    \n",
    "    return avg_orders_per_manager\n",
    "\n",
    "orders_data = [\n",
    "    {'manager': 'Светлана', 'orders': 12},\n",
    "    {'manager': 'Светлана', 'orders': 7},\n",
    "    {'manager': 'Ирина', 'orders': 3},\n",
    "    {'manager': 'Ирина', 'orders': 32},\n",
    "    {'manager': 'Любовь', 'orders': 70},\n",
    "    {'manager': 'Любовь', 'orders': 20}\n",
    "]\n",
    "\n",
    "print(avg_orders(orders_data))"
   ]
  },
  {
   "cell_type": "markdown",
   "metadata": {},
   "source": [
    "### Задание 3\n",
    "\n",
    "Напишите программу, которая принимает на вход последовательность слов, разделенных дефисами, и печатает слова в последовательности, разделенной дефисами, после их сортировки в алфавитном порядке.\n",
    "\n",
    "```\n",
    "зеленый-красный-желтый-черный-белый\n",
    "=> белый-желтый-зеленый-красный-черный\n",
    "```"
   ]
  },
  {
   "cell_type": "code",
   "execution_count": 17,
   "metadata": {},
   "outputs": [
    {
     "name": "stdout",
     "output_type": "stream",
     "text": [
      "белый-желтый-зеленый-красный-черный\n"
     ]
    }
   ],
   "source": [
    "# 3.\n",
    "def sort_words(input_string):\n",
    "    words = input_string.split('-')\n",
    "    sorted_words = sorted(words)\n",
    "    sorted_string = '-'.join(sorted_words)\n",
    "    return sorted_string\n",
    "\n",
    "print(sort_words(\"зеленый-красный-желтый-черный-белый\"))"
   ]
  },
  {
   "cell_type": "markdown",
   "metadata": {},
   "source": [
    "### Задание 4 ###\n",
    "\n",
    "Внесите изменения в готовый код, чтобы получить функцию Python, которая выводит первые $n$ строк треугольника Паскаля.\n",
    "\n",
    "Примечание: Треугольник Паскаля — это арифметическая и геометрическая фигура, впервые придуманная Блезом Паскалем.\n",
    "\n",
    "Пример треугольника Паскаля:\n",
    "\n",
    "![pascal-traingle.png](attachment:pascal-traingle.png)\n",
    "\n",
    "```\n",
    "\n",
    "def pascal_triangle(n):\n",
    "    row = [1]\n",
    "    y = [0]\n",
    "    for x in range(n):\n",
    "        print() # внесите изменение в этой строке\n",
    "        row = [l+r for l, r in zip(row+y, y+row)]\n",
    "    return True\n",
    "pascal_triangle(6)\n",
    "\n",
    "6\n",
    "=>\n",
    "[1]\n",
    "[1, 1]\n",
    "[1, 2, 1]\n",
    "[1, 3, 3, 1]\n",
    "[1, 4, 6, 4, 1]\n",
    "[1, 5, 10, 10, 5, 1]\n",
    "```"
   ]
  },
  {
   "cell_type": "code",
   "execution_count": 18,
   "metadata": {},
   "outputs": [
    {
     "name": "stdout",
     "output_type": "stream",
     "text": [
      "[1]\n",
      "[1, 1]\n",
      "[1, 2, 1]\n",
      "[1, 3, 3, 1]\n",
      "[1, 4, 6, 4, 1]\n",
      "[1, 5, 10, 10, 5, 1]\n"
     ]
    },
    {
     "data": {
      "text/plain": [
       "True"
      ]
     },
     "execution_count": 18,
     "metadata": {},
     "output_type": "execute_result"
    }
   ],
   "source": [
    "# 4.\n",
    "def pascal_triangle(n):\n",
    "    row = [1]\n",
    "    y = [0]\n",
    "    for x in range(n):\n",
    "        print(row) # внесите изменение в этой строке\n",
    "        row = [l+r for l, r in zip(row+y, y+row)]\n",
    "    return True\n",
    "pascal_triangle(6)"
   ]
  },
  {
   "cell_type": "markdown",
   "metadata": {},
   "source": [
    "### Задание 5 ###\n",
    "\n",
    "Напишите функцию Python, чтобы проверить, является ли число «совершенным» или нет.\n",
    "\n",
    "Википедия: В теории чисел совершенное число — это целое положительное число, равное сумме его собственных положительных делителей, то есть сумме его положительных делителей, исключая само число. Другими словами, совершенное число — это число, которое равно половине суммы всех своих положительных делителей (включая само себя).\n",
    "Пример: Первое совершенное число — 6, потому что 1, 2 и 3 — его собственные положительные делители, а 1 + 2 + 3 = 6. Эквивалентно, число 6 равно половине суммы всех его положительных делителей: ( 1 + 2 + 3 + 6) / 2 = 6. Следующее совершенное число 28 = 1 + 2 + 4 + 7 + 14. За ним следуют совершенные числа 496 и 8128.\n",
    "\n",
    "```\n",
    "27 => False\n",
    "28 => True\n",
    "```"
   ]
  },
  {
   "cell_type": "code",
   "execution_count": 19,
   "metadata": {},
   "outputs": [
    {
     "name": "stdout",
     "output_type": "stream",
     "text": [
      "Введите число для проверки: 8128\n",
      "Число 8128 совершенное.\n"
     ]
    }
   ],
   "source": [
    "# 5.\n",
    "def is_perfect(n):\n",
    "    sum = 1 \n",
    "    i = 2\n",
    "    while i * i <= n:\n",
    "        if n % i:\n",
    "            i += 1\n",
    "        else:\n",
    "            if i * (n // i) == n:\n",
    "                sum = sum + i + n//i\n",
    "            i += 1\n",
    "    return sum == n and n!=1\n",
    "\n",
    "number = int(input(\"Введите число для проверки: \"))\n",
    "if is_perfect(number):\n",
    "    print(f\"Число {number} совершенное.\")\n",
    "else:\n",
    "    print(f\"Число {number} не совершенное.\")"
   ]
  },
  {
   "cell_type": "code",
   "execution_count": null,
   "metadata": {},
   "outputs": [],
   "source": []
  }
 ],
 "metadata": {
  "kernelspec": {
   "display_name": "Python 3 (ipykernel)",
   "language": "python",
   "name": "python3"
  },
  "language_info": {
   "codemirror_mode": {
    "name": "ipython",
    "version": 3
   },
   "file_extension": ".py",
   "mimetype": "text/x-python",
   "name": "python",
   "nbconvert_exporter": "python",
   "pygments_lexer": "ipython3",
   "version": "3.11.4"
  }
 },
 "nbformat": 4,
 "nbformat_minor": 4
}
