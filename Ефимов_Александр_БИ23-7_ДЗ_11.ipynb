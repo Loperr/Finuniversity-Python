{
 "cells": [
  {
   "cell_type": "markdown",
   "metadata": {},
   "source": [
    "# Домашнее задание 11\n",
    "\n",
    "Выполните домашнее задание и сохраните в контрольной точке электронного учебного курса в файле с именем в формате\n",
    "\n",
    "```<Фамилия_Имя_Группа_ДЗ_11>.ipynb```"
   ]
  },
  {
   "cell_type": "markdown",
   "metadata": {},
   "source": [
    "### Задание\n",
    "\n",
    "На портале открытых данных Правительства Москвы получите и сохраните на диск набор данных <a href=\"https://data.mos.ru/opendata/1193?pageSize=10&pageIndex=1&isDynamic=false\">Ветеринарные учреждения</a> в формате JSON. Копия этого набора данных нахдится в папке *Data* Вашего электронного учебного курса, имя файла *data-1193-2999-01-01.json*\n",
    "\n",
    "Найдите распределение числа ветеринарных пунктов по административным округам г. Москвы. Отсортируйте результат в порядке убывания числа ветеринарных пунктов."
   ]
  },
  {
   "cell_type": "code",
   "execution_count": 12,
   "metadata": {
    "scrolled": false
   },
   "outputs": [
    {
     "name": "stdout",
     "output_type": "stream",
     "text": [
      "[('Южный административный округ', 5), ('Северо-Восточный административный округ', 4), ('Западный административный округ', 4), ('Северный административный округ', 3), ('Троицкий административный округ', 3), ('Новомосковский административный округ', 3), ('Восточный административный округ', 2), ('Юго-Восточный административный округ', 2), ('Центральный административный округ', 1), ('Юго-Западный административный округ', 1), ('Северо-Западный административный округ', 1), ('Зеленоградский административный округ', 1)]\n"
     ]
    }
   ],
   "source": [
    "# Ваш код здесь\n",
    "import json\n",
    "\n",
    "with open('data-1193-2999-01-01.json', 'r') as f:\n",
    "    data = json.load(f)\n",
    "    \n",
    "distribution = {}\n",
    "\n",
    "for item in data:\n",
    "    adm_area = item['AdmArea']\n",
    "    if adm_area in distribution:\n",
    "        distribution[adm_area] += 1\n",
    "    else:\n",
    "        distribution[adm_area] = 1\n",
    "sorted_distribution = sorted(distribution.items(), key=lambda x: x[1], reverse=True)\n",
    "print(sorted_distribution)"
   ]
  },
  {
   "cell_type": "code",
   "execution_count": null,
   "metadata": {},
   "outputs": [],
   "source": []
  }
 ],
 "metadata": {
  "kernelspec": {
   "display_name": "Python 3 (ipykernel)",
   "language": "python",
   "name": "python3"
  },
  "language_info": {
   "codemirror_mode": {
    "name": "ipython",
    "version": 3
   },
   "file_extension": ".py",
   "mimetype": "text/x-python",
   "name": "python",
   "nbconvert_exporter": "python",
   "pygments_lexer": "ipython3",
   "version": "3.11.4"
  }
 },
 "nbformat": 4,
 "nbformat_minor": 4
}
